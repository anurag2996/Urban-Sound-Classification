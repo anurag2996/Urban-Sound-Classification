{
  "nbformat": 4,
  "nbformat_minor": 0,
  "metadata": {
    "colab": {
      "name": "urban-sound-preprocess.ipynb",
      "version": "0.3.2",
      "provenance": []
    },
    "kernelspec": {
      "name": "python3",
      "display_name": "Python 3"
    },
    "accelerator": "GPU"
  },
  "cells": [
    {
      "metadata": {
        "id": "oq3drU6X9BoB",
        "colab_type": "code",
        "colab": {}
      },
      "cell_type": "code",
      "source": [
        "#downloading and extracting the dataset on colab's server\n",
        "import urllib.request\n",
        "urllib.request.urlretrieve (\"https://zenodo.org/record/1203745/files/UrbanSound8K.tar.gz\",\"a.tar.gz\")\n",
        "import tarfile\n",
        "tar = tarfile.open(\"a.tar.gz\")\n",
        "tar.extractall()\n",
        "tar.close()"
      ],
      "execution_count": 0,
      "outputs": []
    },
    {
      "metadata": {
        "id": "zWuVCy359G8c",
        "colab_type": "code",
        "colab": {}
      },
      "cell_type": "code",
      "source": [
        "import pandas as pd\n",
        "import numpy as np\n",
        "import matplotlib.pyplot as plt\n",
        "import os\n",
        "from tqdm import tqdm"
      ],
      "execution_count": 0,
      "outputs": []
    },
    {
      "metadata": {
        "id": "VmVehjPP-3WF",
        "colab_type": "code",
        "colab": {}
      },
      "cell_type": "code",
      "source": [
        "#forming a panda dataframe from the metadata file\n",
        "data=pd.read_csv(\"UrbanSound8K/metadata/UrbanSound8K.csv\")"
      ],
      "execution_count": 0,
      "outputs": []
    },
    {
      "metadata": {
        "id": "06HFF27m-5h6",
        "colab_type": "code",
        "outputId": "f824fb19-a218-4371-86c0-e724610fa664",
        "colab": {
          "base_uri": "https://localhost:8080/",
          "height": 225
        }
      },
      "cell_type": "code",
      "source": [
        "data.head()"
      ],
      "execution_count": 0,
      "outputs": [
        {
          "output_type": "execute_result",
          "data": {
            "text/html": [
              "<div>\n",
              "<style scoped>\n",
              "    .dataframe tbody tr th:only-of-type {\n",
              "        vertical-align: middle;\n",
              "    }\n",
              "\n",
              "    .dataframe tbody tr th {\n",
              "        vertical-align: top;\n",
              "    }\n",
              "\n",
              "    .dataframe thead th {\n",
              "        text-align: right;\n",
              "    }\n",
              "</style>\n",
              "<table border=\"1\" class=\"dataframe\">\n",
              "  <thead>\n",
              "    <tr style=\"text-align: right;\">\n",
              "      <th></th>\n",
              "      <th>slice_file_name</th>\n",
              "      <th>fsID</th>\n",
              "      <th>start</th>\n",
              "      <th>end</th>\n",
              "      <th>salience</th>\n",
              "      <th>fold</th>\n",
              "      <th>classID</th>\n",
              "      <th>class</th>\n",
              "    </tr>\n",
              "  </thead>\n",
              "  <tbody>\n",
              "    <tr>\n",
              "      <th>0</th>\n",
              "      <td>100032-3-0-0.wav</td>\n",
              "      <td>100032</td>\n",
              "      <td>0.0</td>\n",
              "      <td>0.317551</td>\n",
              "      <td>1</td>\n",
              "      <td>5</td>\n",
              "      <td>3</td>\n",
              "      <td>dog_bark</td>\n",
              "    </tr>\n",
              "    <tr>\n",
              "      <th>1</th>\n",
              "      <td>100263-2-0-117.wav</td>\n",
              "      <td>100263</td>\n",
              "      <td>58.5</td>\n",
              "      <td>62.500000</td>\n",
              "      <td>1</td>\n",
              "      <td>5</td>\n",
              "      <td>2</td>\n",
              "      <td>children_playing</td>\n",
              "    </tr>\n",
              "    <tr>\n",
              "      <th>2</th>\n",
              "      <td>100263-2-0-121.wav</td>\n",
              "      <td>100263</td>\n",
              "      <td>60.5</td>\n",
              "      <td>64.500000</td>\n",
              "      <td>1</td>\n",
              "      <td>5</td>\n",
              "      <td>2</td>\n",
              "      <td>children_playing</td>\n",
              "    </tr>\n",
              "    <tr>\n",
              "      <th>3</th>\n",
              "      <td>100263-2-0-126.wav</td>\n",
              "      <td>100263</td>\n",
              "      <td>63.0</td>\n",
              "      <td>67.000000</td>\n",
              "      <td>1</td>\n",
              "      <td>5</td>\n",
              "      <td>2</td>\n",
              "      <td>children_playing</td>\n",
              "    </tr>\n",
              "    <tr>\n",
              "      <th>4</th>\n",
              "      <td>100263-2-0-137.wav</td>\n",
              "      <td>100263</td>\n",
              "      <td>68.5</td>\n",
              "      <td>72.500000</td>\n",
              "      <td>1</td>\n",
              "      <td>5</td>\n",
              "      <td>2</td>\n",
              "      <td>children_playing</td>\n",
              "    </tr>\n",
              "  </tbody>\n",
              "</table>\n",
              "</div>"
            ],
            "text/plain": [
              "      slice_file_name    fsID  start        end  salience  fold  classID  \\\n",
              "0    100032-3-0-0.wav  100032    0.0   0.317551         1     5        3   \n",
              "1  100263-2-0-117.wav  100263   58.5  62.500000         1     5        2   \n",
              "2  100263-2-0-121.wav  100263   60.5  64.500000         1     5        2   \n",
              "3  100263-2-0-126.wav  100263   63.0  67.000000         1     5        2   \n",
              "4  100263-2-0-137.wav  100263   68.5  72.500000         1     5        2   \n",
              "\n",
              "              class  \n",
              "0          dog_bark  \n",
              "1  children_playing  \n",
              "2  children_playing  \n",
              "3  children_playing  \n",
              "4  children_playing  "
            ]
          },
          "metadata": {
            "tags": []
          },
          "execution_count": 4
        }
      ]
    },
    {
      "metadata": {
        "id": "OngahCpe-7Su",
        "colab_type": "code",
        "outputId": "9648b87d-eb7f-4b6d-f2ee-b8dcfe909b72",
        "colab": {
          "base_uri": "https://localhost:8080/",
          "height": 225
        }
      },
      "cell_type": "code",
      "source": [
        "data['fold'].value_counts()"
      ],
      "execution_count": 0,
      "outputs": [
        {
          "output_type": "execute_result",
          "data": {
            "text/plain": [
              "4     990\n",
              "5     936\n",
              "3     925\n",
              "2     888\n",
              "1     873\n",
              "7     838\n",
              "10    837\n",
              "6     823\n",
              "9     816\n",
              "8     806\n",
              "Name: fold, dtype: int64"
            ]
          },
          "metadata": {
            "tags": []
          },
          "execution_count": 5
        }
      ]
    },
    {
      "metadata": {
        "id": "RcrFANwY_CQb",
        "colab_type": "code",
        "colab": {}
      },
      "cell_type": "code",
      "source": [
        "import librosa\n",
        "from librosa import display"
      ],
      "execution_count": 0,
      "outputs": []
    },
    {
      "metadata": {
        "id": "DHo_rjaZ_JqA",
        "colab_type": "code",
        "colab": {}
      },
      "cell_type": "code",
      "source": [
        "# extracting y = audio time series and sr = sampling rate from a random audio file\n",
        "y,sr=librosa.load(\"UrbanSound8K/audio/fold5/100263-2-0-137.wav\") # where sr is the sampling rata"
      ],
      "execution_count": 0,
      "outputs": []
    },
    {
      "metadata": {
        "id": "koeBRFFzAQR_",
        "colab_type": "code",
        "outputId": "fbdefe13-3410-43a3-de35-8164c9107850",
        "colab": {
          "base_uri": "https://localhost:8080/",
          "height": 54
        }
      },
      "cell_type": "code",
      "source": [
        "print('sampling rrate used in files is:',sr)"
      ],
      "execution_count": 0,
      "outputs": [
        {
          "output_type": "stream",
          "text": [
            "sampling rrate used in files is: 22050\n"
          ],
          "name": "stdout"
        }
      ]
    },
    {
      "metadata": {
        "id": "1_kP4rfZAU-_",
        "colab_type": "code",
        "colab": {}
      },
      "cell_type": "code",
      "source": [
        "# creating a feature set of data\n",
        "\n",
        "mfccs = np.mean(librosa.feature.mfcc(y, sr, n_mfcc=40).T,axis=0) #Mel-frequency cepstral coefficients\n",
        "\n",
        "melspectrogram = np.mean(librosa.feature.melspectrogram(y=y, sr=sr, n_mels=40,fmax=8000).T,axis=0) #Compute a mel-scaled spectrogram\n",
        "\n",
        "chroma_stft=np.mean(librosa.feature.chroma_stft(y=y, sr=sr,n_chroma=40).T,axis=0) #Compute a chromagram from a waveform or power spectrogram\n",
        "\n",
        "chroma_cq = np.mean(librosa.feature.chroma_cqt(y=y, sr=sr,n_chroma=40).T,axis=0) #Constant-Q chromagram\n",
        "\n",
        "chroma_cens = np.mean(librosa.feature.chroma_cens(y=y, sr=sr,n_chroma=40).T,axis=0) #Computes the chroma variant “Chroma Energy Normalized” (CENS)"
      ],
      "execution_count": 0,
      "outputs": []
    },
    {
      "metadata": {
        "id": "FM3vKB6xBlmz",
        "colab_type": "code",
        "outputId": "e7f014c0-d8c5-4883-c75c-6b34995293bc",
        "colab": {
          "base_uri": "https://localhost:8080/",
          "height": 54
        }
      },
      "cell_type": "code",
      "source": [
        "mfccs.shape, melspectrogram.shape, chroma_stft.shape,chroma_cq.shape,chroma_cens.shape"
      ],
      "execution_count": 0,
      "outputs": [
        {
          "output_type": "execute_result",
          "data": {
            "text/plain": [
              "((40,), (40,), (40,), (40,), (40,))"
            ]
          },
          "metadata": {
            "tags": []
          },
          "execution_count": 20
        }
      ]
    },
    {
      "metadata": {
        "id": "rznlExxWB1nB",
        "colab_type": "code",
        "outputId": "17709ed6-15c1-403d-bd2d-fd6b892410e6",
        "colab": {
          "base_uri": "https://localhost:8080/",
          "height": 54
        }
      },
      "cell_type": "code",
      "source": [
        "#stacking and reshaping\n",
        "features=np.reshape(np.vstack((mfccs,melspectrogram,chroma_stft,chroma_cq,chroma_cens)),(40,5))\n",
        "features.shape"
      ],
      "execution_count": 0,
      "outputs": [
        {
          "output_type": "execute_result",
          "data": {
            "text/plain": [
              "(40, 5)"
            ]
          },
          "metadata": {
            "tags": []
          },
          "execution_count": 21
        }
      ]
    },
    {
      "metadata": {
        "id": "dje6r1ywCBhV",
        "colab_type": "code",
        "outputId": "ab5e1dd7-1401-4f81-f1f3-0cabed113823",
        "colab": {
          "base_uri": "https://localhost:8080/",
          "height": 2599
        }
      },
      "cell_type": "code",
      "source": [
        "#preprocessing using entire feature set\n",
        "x_train = []\n",
        "x_test = []\n",
        "y_train = []\n",
        "y_test = []\n",
        "\n",
        "path=\"UrbanSound8K/audio/fold\"\n",
        "for i in tqdm(range(len(data))):\n",
        "  fold_number = str(data.iloc[i]['fold'])\n",
        "  file = data.iloc[i]['slice_file_name']\n",
        "  label = data.iloc[i]['classID']\n",
        "  filename = path + fold_number + '/' + file\n",
        "  y, sr = librosa.load(filename)\n",
        "  \n",
        "  mfccs = np.mean(librosa.feature.mfcc(y, sr, n_mfcc=40).T,axis=0) #Mel-frequency cepstral coefficients\n",
        "\n",
        "  melspectrogram = np.mean(librosa.feature.melspectrogram(y=y, sr=sr, n_mels=40,fmax=8000).T,axis=0) #Compute a mel-scaled spectrogram\n",
        "\n",
        "  chroma_stft=np.mean(librosa.feature.chroma_stft(y=y, sr=sr,n_chroma=40).T,axis=0) #Compute a chromagram from a waveform or power spectrogram\n",
        "\n",
        "  chroma_cq = np.mean(librosa.feature.chroma_cqt(y=y, sr=sr,n_chroma=40).T,axis=0) #Constant-Q chromagram\n",
        "\n",
        "  chroma_cens = np.mean(librosa.feature.chroma_cens(y=y, sr=sr,n_chroma=40).T,axis=0) #Computes the chroma variant “Chroma Energy Normalized” (CENS)\n",
        "  \n",
        "  features=np.reshape(np.vstack((mfccs,melspectrogram,chroma_stft,chroma_cq,chroma_cens)),(40,5))\n",
        "  \n",
        "  if (fold_number != '10'):\n",
        "    x_train.append(features)\n",
        "    y_train.append(label)\n",
        "  else:\n",
        "    x_test.append(features)\n",
        "    y_test.append(label)"
      ],
      "execution_count": 0,
      "outputs": [
        {
          "output_type": "stream",
          "text": [
            "  1%|          | 67/8732 [00:39<1:32:54,  1.55it/s]/usr/local/lib/python3.6/dist-packages/librosa/core/pitch.py:145: UserWarning: Trying to estimate tuning from empty frequency set.\n",
            "  warnings.warn('Trying to estimate tuning from empty frequency set.')\n",
            "  1%|          | 68/8732 [00:41<2:28:41,  1.03s/it]/usr/local/lib/python3.6/dist-packages/librosa/core/pitch.py:145: UserWarning: Trying to estimate tuning from empty frequency set.\n",
            "  warnings.warn('Trying to estimate tuning from empty frequency set.')\n",
            "  1%|          | 69/8732 [00:42<2:16:18,  1.06it/s]/usr/local/lib/python3.6/dist-packages/librosa/core/pitch.py:145: UserWarning: Trying to estimate tuning from empty frequency set.\n",
            "  warnings.warn('Trying to estimate tuning from empty frequency set.')\n",
            "  1%|          | 71/8732 [00:43<2:01:56,  1.18it/s]/usr/local/lib/python3.6/dist-packages/librosa/core/pitch.py:145: UserWarning: Trying to estimate tuning from empty frequency set.\n",
            "  warnings.warn('Trying to estimate tuning from empty frequency set.')\n",
            "  1%|          | 72/8732 [00:44<1:57:35,  1.23it/s]/usr/local/lib/python3.6/dist-packages/librosa/core/pitch.py:145: UserWarning: Trying to estimate tuning from empty frequency set.\n",
            "  warnings.warn('Trying to estimate tuning from empty frequency set.')\n",
            "  1%|          | 73/8732 [00:45<1:54:29,  1.26it/s]/usr/local/lib/python3.6/dist-packages/librosa/core/pitch.py:145: UserWarning: Trying to estimate tuning from empty frequency set.\n",
            "  warnings.warn('Trying to estimate tuning from empty frequency set.')\n",
            "  1%|          | 74/8732 [00:46<1:52:39,  1.28it/s]/usr/local/lib/python3.6/dist-packages/librosa/core/pitch.py:145: UserWarning: Trying to estimate tuning from empty frequency set.\n",
            "  warnings.warn('Trying to estimate tuning from empty frequency set.')\n",
            "  1%|          | 75/8732 [00:46<1:51:02,  1.30it/s]/usr/local/lib/python3.6/dist-packages/librosa/core/pitch.py:145: UserWarning: Trying to estimate tuning from empty frequency set.\n",
            "  warnings.warn('Trying to estimate tuning from empty frequency set.')\n",
            "  1%|          | 76/8732 [00:47<1:50:26,  1.31it/s]/usr/local/lib/python3.6/dist-packages/librosa/core/pitch.py:145: UserWarning: Trying to estimate tuning from empty frequency set.\n",
            "  warnings.warn('Trying to estimate tuning from empty frequency set.')\n",
            "  1%|          | 77/8732 [00:48<1:49:34,  1.32it/s]/usr/local/lib/python3.6/dist-packages/librosa/core/pitch.py:145: UserWarning: Trying to estimate tuning from empty frequency set.\n",
            "  warnings.warn('Trying to estimate tuning from empty frequency set.')\n",
            "  1%|          | 78/8732 [00:49<1:49:10,  1.32it/s]/usr/local/lib/python3.6/dist-packages/librosa/core/pitch.py:145: UserWarning: Trying to estimate tuning from empty frequency set.\n",
            "  warnings.warn('Trying to estimate tuning from empty frequency set.')\n",
            "  1%|          | 79/8732 [00:49<1:48:35,  1.33it/s]/usr/local/lib/python3.6/dist-packages/librosa/core/pitch.py:145: UserWarning: Trying to estimate tuning from empty frequency set.\n",
            "  warnings.warn('Trying to estimate tuning from empty frequency set.')\n",
            "  1%|          | 80/8732 [00:50<1:47:47,  1.34it/s]/usr/local/lib/python3.6/dist-packages/librosa/core/pitch.py:145: UserWarning: Trying to estimate tuning from empty frequency set.\n",
            "  warnings.warn('Trying to estimate tuning from empty frequency set.')\n",
            "  1%|          | 81/8732 [00:51<1:47:36,  1.34it/s]/usr/local/lib/python3.6/dist-packages/librosa/core/pitch.py:145: UserWarning: Trying to estimate tuning from empty frequency set.\n",
            "  warnings.warn('Trying to estimate tuning from empty frequency set.')\n",
            "  1%|          | 84/8732 [00:53<1:46:32,  1.35it/s]/usr/local/lib/python3.6/dist-packages/librosa/core/pitch.py:145: UserWarning: Trying to estimate tuning from empty frequency set.\n",
            "  warnings.warn('Trying to estimate tuning from empty frequency set.')\n",
            "  1%|          | 85/8732 [00:54<1:47:22,  1.34it/s]/usr/local/lib/python3.6/dist-packages/librosa/core/pitch.py:145: UserWarning: Trying to estimate tuning from empty frequency set.\n",
            "  warnings.warn('Trying to estimate tuning from empty frequency set.')\n",
            "  1%|          | 86/8732 [00:55<1:47:18,  1.34it/s]/usr/local/lib/python3.6/dist-packages/librosa/core/pitch.py:145: UserWarning: Trying to estimate tuning from empty frequency set.\n",
            "  warnings.warn('Trying to estimate tuning from empty frequency set.')\n",
            "  1%|          | 87/8732 [00:55<1:47:12,  1.34it/s]/usr/local/lib/python3.6/dist-packages/librosa/core/pitch.py:145: UserWarning: Trying to estimate tuning from empty frequency set.\n",
            "  warnings.warn('Trying to estimate tuning from empty frequency set.')\n",
            "  1%|          | 88/8732 [00:56<1:46:44,  1.35it/s]/usr/local/lib/python3.6/dist-packages/librosa/core/pitch.py:145: UserWarning: Trying to estimate tuning from empty frequency set.\n",
            "  warnings.warn('Trying to estimate tuning from empty frequency set.')\n",
            "  1%|          | 89/8732 [00:57<1:46:52,  1.35it/s]/usr/local/lib/python3.6/dist-packages/librosa/core/pitch.py:145: UserWarning: Trying to estimate tuning from empty frequency set.\n",
            "  warnings.warn('Trying to estimate tuning from empty frequency set.')\n",
            "  1%|          | 90/8732 [00:58<1:46:52,  1.35it/s]/usr/local/lib/python3.6/dist-packages/librosa/core/pitch.py:145: UserWarning: Trying to estimate tuning from empty frequency set.\n",
            "  warnings.warn('Trying to estimate tuning from empty frequency set.')\n",
            "  1%|          | 91/8732 [00:58<1:46:37,  1.35it/s]/usr/local/lib/python3.6/dist-packages/librosa/core/pitch.py:145: UserWarning: Trying to estimate tuning from empty frequency set.\n",
            "  warnings.warn('Trying to estimate tuning from empty frequency set.')\n",
            "  1%|          | 92/8732 [00:59<1:46:46,  1.35it/s]/usr/local/lib/python3.6/dist-packages/librosa/core/pitch.py:145: UserWarning: Trying to estimate tuning from empty frequency set.\n",
            "  warnings.warn('Trying to estimate tuning from empty frequency set.')\n",
            "  1%|          | 93/8732 [01:00<1:46:24,  1.35it/s]/usr/local/lib/python3.6/dist-packages/librosa/core/pitch.py:145: UserWarning: Trying to estimate tuning from empty frequency set.\n",
            "  warnings.warn('Trying to estimate tuning from empty frequency set.')\n",
            "  6%|▌         | 486/8732 [05:27<1:32:45,  1.48it/s]/usr/local/lib/python3.6/dist-packages/librosa/core/pitch.py:145: UserWarning: Trying to estimate tuning from empty frequency set.\n",
            "  warnings.warn('Trying to estimate tuning from empty frequency set.')\n",
            " 11%|█         | 944/8732 [10:33<1:10:25,  1.84it/s]/usr/local/lib/python3.6/dist-packages/librosa/core/pitch.py:145: UserWarning: Trying to estimate tuning from empty frequency set.\n",
            "  warnings.warn('Trying to estimate tuning from empty frequency set.')\n",
            " 11%|█▏        | 993/8732 [11:07<1:13:18,  1.76it/s]/usr/local/lib/python3.6/dist-packages/librosa/core/pitch.py:145: UserWarning: Trying to estimate tuning from empty frequency set.\n",
            "  warnings.warn('Trying to estimate tuning from empty frequency set.')\n",
            " 13%|█▎        | 1150/8732 [12:44<1:08:05,  1.86it/s]/usr/local/lib/python3.6/dist-packages/librosa/core/pitch.py:145: UserWarning: Trying to estimate tuning from empty frequency set.\n",
            "  warnings.warn('Trying to estimate tuning from empty frequency set.')\n",
            " 21%|██        | 1828/8732 [19:48<59:19,  1.94it/s]/usr/local/lib/python3.6/dist-packages/librosa/core/pitch.py:145: UserWarning: Trying to estimate tuning from empty frequency set.\n",
            "  warnings.warn('Trying to estimate tuning from empty frequency set.')\n",
            " 21%|██        | 1842/8732 [19:56<1:00:46,  1.89it/s]/usr/local/lib/python3.6/dist-packages/librosa/core/pitch.py:145: UserWarning: Trying to estimate tuning from empty frequency set.\n",
            "  warnings.warn('Trying to estimate tuning from empty frequency set.')\n",
            " 21%|██        | 1844/8732 [19:58<1:11:59,  1.59it/s]/usr/local/lib/python3.6/dist-packages/librosa/core/pitch.py:145: UserWarning: Trying to estimate tuning from empty frequency set.\n",
            "  warnings.warn('Trying to estimate tuning from empty frequency set.')\n",
            " 21%|██        | 1847/8732 [20:00<1:19:00,  1.45it/s]/usr/local/lib/python3.6/dist-packages/librosa/core/pitch.py:145: UserWarning: Trying to estimate tuning from empty frequency set.\n",
            "  warnings.warn('Trying to estimate tuning from empty frequency set.')\n",
            " 21%|██        | 1850/8732 [20:02<1:21:15,  1.41it/s]/usr/local/lib/python3.6/dist-packages/librosa/core/pitch.py:145: UserWarning: Trying to estimate tuning from empty frequency set.\n",
            "  warnings.warn('Trying to estimate tuning from empty frequency set.')\n",
            " 21%|██        | 1855/8732 [20:06<1:22:08,  1.40it/s]/usr/local/lib/python3.6/dist-packages/librosa/core/pitch.py:145: UserWarning: Trying to estimate tuning from empty frequency set.\n",
            "  warnings.warn('Trying to estimate tuning from empty frequency set.')\n",
            " 21%|██▏       | 1856/8732 [20:06<1:22:18,  1.39it/s]/usr/local/lib/python3.6/dist-packages/librosa/core/pitch.py:145: UserWarning: Trying to estimate tuning from empty frequency set.\n",
            "  warnings.warn('Trying to estimate tuning from empty frequency set.')\n",
            " 21%|██▏       | 1866/8732 [20:14<1:21:22,  1.41it/s]/usr/local/lib/python3.6/dist-packages/librosa/core/pitch.py:145: UserWarning: Trying to estimate tuning from empty frequency set.\n",
            "  warnings.warn('Trying to estimate tuning from empty frequency set.')\n",
            " 22%|██▏       | 1905/8732 [20:42<1:23:34,  1.36it/s]/usr/local/lib/python3.6/dist-packages/librosa/core/pitch.py:145: UserWarning: Trying to estimate tuning from empty frequency set.\n",
            "  warnings.warn('Trying to estimate tuning from empty frequency set.')\n",
            " 22%|██▏       | 1906/8732 [20:42<1:23:23,  1.36it/s]/usr/local/lib/python3.6/dist-packages/librosa/core/pitch.py:145: UserWarning: Trying to estimate tuning from empty frequency set.\n",
            "  warnings.warn('Trying to estimate tuning from empty frequency set.')\n",
            " 22%|██▏       | 1907/8732 [20:43<1:23:40,  1.36it/s]/usr/local/lib/python3.6/dist-packages/librosa/core/pitch.py:145: UserWarning: Trying to estimate tuning from empty frequency set.\n",
            "  warnings.warn('Trying to estimate tuning from empty frequency set.')\n",
            " 22%|██▏       | 1908/8732 [20:44<1:23:49,  1.36it/s]/usr/local/lib/python3.6/dist-packages/librosa/core/pitch.py:145: UserWarning: Trying to estimate tuning from empty frequency set.\n",
            "  warnings.warn('Trying to estimate tuning from empty frequency set.')\n",
            " 22%|██▏       | 1909/8732 [20:44<1:23:52,  1.36it/s]/usr/local/lib/python3.6/dist-packages/librosa/core/pitch.py:145: UserWarning: Trying to estimate tuning from empty frequency set.\n",
            "  warnings.warn('Trying to estimate tuning from empty frequency set.')\n",
            " 22%|██▏       | 1911/8732 [20:46<1:23:31,  1.36it/s]/usr/local/lib/python3.6/dist-packages/librosa/core/pitch.py:145: UserWarning: Trying to estimate tuning from empty frequency set.\n",
            "  warnings.warn('Trying to estimate tuning from empty frequency set.')\n",
            " 25%|██▍       | 2166/8732 [23:24<1:06:58,  1.63it/s]/usr/local/lib/python3.6/dist-packages/librosa/core/pitch.py:145: UserWarning: Trying to estimate tuning from empty frequency set.\n",
            "  warnings.warn('Trying to estimate tuning from empty frequency set.')\n",
            " 30%|██▉       | 2584/8732 [27:53<1:06:20,  1.54it/s]/usr/local/lib/python3.6/dist-packages/librosa/core/pitch.py:145: UserWarning: Trying to estimate tuning from empty frequency set.\n",
            "  warnings.warn('Trying to estimate tuning from empty frequency set.')\n",
            " 30%|██▉       | 2603/8732 [28:01<43:46,  2.33it/s]/usr/local/lib/python3.6/dist-packages/librosa/core/pitch.py:145: UserWarning: Trying to estimate tuning from empty frequency set.\n",
            "  warnings.warn('Trying to estimate tuning from empty frequency set.')\n",
            " 30%|██▉       | 2604/8732 [28:02<39:53,  2.56it/s]/usr/local/lib/python3.6/dist-packages/librosa/core/pitch.py:145: UserWarning: Trying to estimate tuning from empty frequency set.\n",
            "  warnings.warn('Trying to estimate tuning from empty frequency set.')\n",
            " 30%|██▉       | 2605/8732 [28:02<37:02,  2.76it/s]/usr/local/lib/python3.6/dist-packages/librosa/core/pitch.py:145: UserWarning: Trying to estimate tuning from empty frequency set.\n",
            "  warnings.warn('Trying to estimate tuning from empty frequency set.')\n",
            " 30%|██▉       | 2606/8732 [28:02<35:27,  2.88it/s]/usr/local/lib/python3.6/dist-packages/librosa/core/pitch.py:145: UserWarning: Trying to estimate tuning from empty frequency set.\n",
            "  warnings.warn('Trying to estimate tuning from empty frequency set.')\n",
            " 32%|███▏      | 2787/8732 [30:11<1:09:39,  1.42it/s]/usr/local/lib/python3.6/dist-packages/librosa/core/pitch.py:145: UserWarning: Trying to estimate tuning from empty frequency set.\n",
            "  warnings.warn('Trying to estimate tuning from empty frequency set.')\n",
            " 34%|███▍      | 2981/8732 [32:45<41:03,  2.33it/s]/usr/local/lib/python3.6/dist-packages/librosa/core/pitch.py:145: UserWarning: Trying to estimate tuning from empty frequency set.\n",
            "  warnings.warn('Trying to estimate tuning from empty frequency set.')\n",
            " 37%|███▋      | 3201/8732 [34:49<1:04:56,  1.42it/s]/usr/local/lib/python3.6/dist-packages/librosa/core/pitch.py:145: UserWarning: Trying to estimate tuning from empty frequency set.\n",
            "  warnings.warn('Trying to estimate tuning from empty frequency set.')\n",
            " 43%|████▎     | 3732/8732 [40:35<1:02:06,  1.34it/s]/usr/local/lib/python3.6/dist-packages/librosa/core/pitch.py:145: UserWarning: Trying to estimate tuning from empty frequency set.\n",
            "  warnings.warn('Trying to estimate tuning from empty frequency set.')\n",
            " 46%|████▋     | 4053/8732 [44:26<57:59,  1.34it/s]/usr/local/lib/python3.6/dist-packages/librosa/core/pitch.py:145: UserWarning: Trying to estimate tuning from empty frequency set.\n",
            "  warnings.warn('Trying to estimate tuning from empty frequency set.')\n",
            " 52%|█████▏    | 4567/8732 [50:16<45:43,  1.52it/s]/usr/local/lib/python3.6/dist-packages/librosa/core/pitch.py:145: UserWarning: Trying to estimate tuning from empty frequency set.\n",
            "  warnings.warn('Trying to estimate tuning from empty frequency set.')\n",
            " 58%|█████▊    | 5097/8732 [56:16<36:50,  1.64it/s]/usr/local/lib/python3.6/dist-packages/librosa/core/pitch.py:145: UserWarning: Trying to estimate tuning from empty frequency set.\n",
            "  warnings.warn('Trying to estimate tuning from empty frequency set.')\n",
            " 58%|█████▊    | 5101/8732 [56:18<30:26,  1.99it/s]/usr/local/lib/python3.6/dist-packages/librosa/core/pitch.py:145: UserWarning: Trying to estimate tuning from empty frequency set.\n",
            "  warnings.warn('Trying to estimate tuning from empty frequency set.')\n",
            " 58%|█████▊    | 5102/8732 [56:19<30:51,  1.96it/s]/usr/local/lib/python3.6/dist-packages/librosa/core/pitch.py:145: UserWarning: Trying to estimate tuning from empty frequency set.\n",
            "  warnings.warn('Trying to estimate tuning from empty frequency set.')\n",
            " 58%|█████▊    | 5103/8732 [56:19<31:03,  1.95it/s]/usr/local/lib/python3.6/dist-packages/librosa/core/pitch.py:145: UserWarning: Trying to estimate tuning from empty frequency set.\n",
            "  warnings.warn('Trying to estimate tuning from empty frequency set.')\n",
            " 58%|█████▊    | 5104/8732 [56:20<31:23,  1.93it/s]/usr/local/lib/python3.6/dist-packages/librosa/core/pitch.py:145: UserWarning: Trying to estimate tuning from empty frequency set.\n",
            "  warnings.warn('Trying to estimate tuning from empty frequency set.')\n",
            " 58%|█████▊    | 5105/8732 [56:20<31:00,  1.95it/s]/usr/local/lib/python3.6/dist-packages/librosa/core/pitch.py:145: UserWarning: Trying to estimate tuning from empty frequency set.\n",
            "  warnings.warn('Trying to estimate tuning from empty frequency set.')\n",
            " 58%|█████▊    | 5106/8732 [56:21<31:34,  1.91it/s]/usr/local/lib/python3.6/dist-packages/librosa/core/pitch.py:145: UserWarning: Trying to estimate tuning from empty frequency set.\n",
            "  warnings.warn('Trying to estimate tuning from empty frequency set.')\n",
            " 58%|█████▊    | 5108/8732 [56:22<30:46,  1.96it/s]/usr/local/lib/python3.6/dist-packages/librosa/core/pitch.py:145: UserWarning: Trying to estimate tuning from empty frequency set.\n",
            "  warnings.warn('Trying to estimate tuning from empty frequency set.')\n",
            " 59%|█████▉    | 5188/8732 [57:14<43:29,  1.36it/s]/usr/local/lib/python3.6/dist-packages/librosa/core/pitch.py:145: UserWarning: Trying to estimate tuning from empty frequency set.\n",
            "  warnings.warn('Trying to estimate tuning from empty frequency set.')\n",
            " 60%|█████▉    | 5196/8732 [57:19<43:40,  1.35it/s]/usr/local/lib/python3.6/dist-packages/librosa/core/pitch.py:145: UserWarning: Trying to estimate tuning from empty frequency set.\n",
            "  warnings.warn('Trying to estimate tuning from empty frequency set.')\n",
            " 63%|██████▎   | 5537/8732 [1:01:04<17:06,  3.11it/s]/usr/local/lib/python3.6/dist-packages/librosa/core/pitch.py:145: UserWarning: Trying to estimate tuning from empty frequency set.\n",
            "  warnings.warn('Trying to estimate tuning from empty frequency set.')\n",
            " 64%|██████▍   | 5567/8732 [1:01:26<38:02,  1.39it/s]/usr/local/lib/python3.6/dist-packages/librosa/core/pitch.py:145: UserWarning: Trying to estimate tuning from empty frequency set.\n",
            "  warnings.warn('Trying to estimate tuning from empty frequency set.')\n",
            " 67%|██████▋   | 5892/8732 [1:04:34<16:36,  2.85it/s]/usr/local/lib/python3.6/dist-packages/librosa/core/pitch.py:145: UserWarning: Trying to estimate tuning from empty frequency set.\n",
            "  warnings.warn('Trying to estimate tuning from empty frequency set.')\n",
            " 73%|███████▎  | 6345/8732 [1:08:47<24:30,  1.62it/s]/usr/local/lib/python3.6/dist-packages/librosa/core/pitch.py:145: UserWarning: Trying to estimate tuning from empty frequency set.\n",
            "  warnings.warn('Trying to estimate tuning from empty frequency set.')\n",
            " 74%|███████▍  | 6483/8732 [1:10:04<22:31,  1.66it/s]/usr/local/lib/python3.6/dist-packages/librosa/core/pitch.py:145: UserWarning: Trying to estimate tuning from empty frequency set.\n",
            "  warnings.warn('Trying to estimate tuning from empty frequency set.')\n",
            " 75%|███████▍  | 6522/8732 [1:10:25<22:50,  1.61it/s]/usr/local/lib/python3.6/dist-packages/librosa/core/pitch.py:145: UserWarning: Trying to estimate tuning from empty frequency set.\n",
            "  warnings.warn('Trying to estimate tuning from empty frequency set.')\n",
            " 77%|███████▋  | 6706/8732 [1:12:11<21:35,  1.56it/s]/usr/local/lib/python3.6/dist-packages/librosa/core/pitch.py:145: UserWarning: Trying to estimate tuning from empty frequency set.\n",
            "  warnings.warn('Trying to estimate tuning from empty frequency set.')\n",
            " 79%|███████▊  | 6866/8732 [1:13:55<19:53,  1.56it/s]/usr/local/lib/python3.6/dist-packages/librosa/core/pitch.py:145: UserWarning: Trying to estimate tuning from empty frequency set.\n",
            "  warnings.warn('Trying to estimate tuning from empty frequency set.')\n",
            " 84%|████████▍ | 7349/8732 [1:18:53<12:17,  1.87it/s]/usr/local/lib/python3.6/dist-packages/librosa/core/pitch.py:145: UserWarning: Trying to estimate tuning from empty frequency set.\n",
            "  warnings.warn('Trying to estimate tuning from empty frequency set.')\n",
            " 91%|█████████ | 7938/8732 [1:25:01<03:59,  3.31it/s]/usr/local/lib/python3.6/dist-packages/librosa/core/pitch.py:145: UserWarning: Trying to estimate tuning from empty frequency set.\n",
            "  warnings.warn('Trying to estimate tuning from empty frequency set.')\n",
            " 91%|█████████▏| 7980/8732 [1:25:27<10:21,  1.21it/s]/usr/local/lib/python3.6/dist-packages/librosa/core/pitch.py:145: UserWarning: Trying to estimate tuning from empty frequency set.\n",
            "  warnings.warn('Trying to estimate tuning from empty frequency set.')\n",
            " 96%|█████████▌| 8375/8732 [1:29:27<03:47,  1.57it/s]/usr/local/lib/python3.6/dist-packages/librosa/core/pitch.py:145: UserWarning: Trying to estimate tuning from empty frequency set.\n",
            "  warnings.warn('Trying to estimate tuning from empty frequency set.')\n",
            " 96%|█████████▌| 8397/8732 [1:29:42<03:37,  1.54it/s]/usr/local/lib/python3.6/dist-packages/librosa/core/pitch.py:145: UserWarning: Trying to estimate tuning from empty frequency set.\n",
            "  warnings.warn('Trying to estimate tuning from empty frequency set.')\n",
            "100%|██████████| 8732/8732 [1:33:09<00:00,  1.81it/s]\n"
          ],
          "name": "stderr"
        }
      ]
    },
    {
      "metadata": {
        "id": "vSWujc2TD5ou",
        "colab_type": "code",
        "outputId": "867054a3-a845-41a0-9c2d-5c1f58b5d775",
        "colab": {
          "base_uri": "https://localhost:8080/",
          "height": 74
        }
      },
      "cell_type": "code",
      "source": [
        "len(x_train) + len(x_test)"
      ],
      "execution_count": 0,
      "outputs": [
        {
          "output_type": "execute_result",
          "data": {
            "text/plain": [
              "8732"
            ]
          },
          "metadata": {
            "tags": []
          },
          "execution_count": 23
        }
      ]
    },
    {
      "metadata": {
        "id": "iuEO3AstY94R",
        "colab_type": "code",
        "outputId": "99abb213-f23b-4aad-bb01-ef130ef0212f",
        "colab": {
          "base_uri": "https://localhost:8080/",
          "height": 74
        }
      },
      "cell_type": "code",
      "source": [
        "len(data)"
      ],
      "execution_count": 0,
      "outputs": [
        {
          "output_type": "execute_result",
          "data": {
            "text/plain": [
              "8732"
            ]
          },
          "metadata": {
            "tags": []
          },
          "execution_count": 24
        }
      ]
    },
    {
      "metadata": {
        "id": "tvzavqliZAaT",
        "colab_type": "code",
        "colab": {}
      },
      "cell_type": "code",
      "source": [
        "import numpy as np\n",
        "x_train = np.array(x_train)\n",
        "x_test = np.array(x_test)\n",
        "y_train = np.array(y_train)\n",
        "y_test = np.array(y_test)"
      ],
      "execution_count": 0,
      "outputs": []
    },
    {
      "metadata": {
        "id": "JDte7luBZXT_",
        "colab_type": "code",
        "outputId": "4ccf8706-a041-4763-ecd1-385894338feb",
        "colab": {
          "base_uri": "https://localhost:8080/",
          "height": 74
        }
      },
      "cell_type": "code",
      "source": [
        "x_train.shape,x_test.shape,y_train.shape,y_test.shape"
      ],
      "execution_count": 0,
      "outputs": [
        {
          "output_type": "execute_result",
          "data": {
            "text/plain": [
              "((7895, 40, 5), (837, 40, 5), (7895,), (837,))"
            ]
          },
          "metadata": {
            "tags": []
          },
          "execution_count": 26
        }
      ]
    },
    {
      "metadata": {
        "id": "c5bpP_ImZkZQ",
        "colab_type": "code",
        "outputId": "70549cf8-3d52-4347-9eda-38d6f7f4eca4",
        "colab": {
          "base_uri": "https://localhost:8080/",
          "height": 74
        }
      },
      "cell_type": "code",
      "source": [
        "#reshaping into 2d to save in csv format\n",
        "x_train_2d=np.reshape(x_train,(x_train.shape[0],x_train.shape[1]*x_train.shape[2]))\n",
        "x_test_2d=np.reshape(x_test,(x_test.shape[0],x_test.shape[1]*x_test.shape[2]))\n",
        "x_train_2d.shape,x_test_2d.shape"
      ],
      "execution_count": 0,
      "outputs": [
        {
          "output_type": "execute_result",
          "data": {
            "text/plain": [
              "((7895, 200), (837, 200))"
            ]
          },
          "metadata": {
            "tags": []
          },
          "execution_count": 27
        }
      ]
    },
    {
      "metadata": {
        "id": "tEWjni1zZxQH",
        "colab_type": "code",
        "colab": {}
      },
      "cell_type": "code",
      "source": [
        "#saving the data numpy arrays\n",
        "np.savetxt(\"urban_train_data.csv\", x_train_2d, delimiter=\",\")\n",
        "np.savetxt(\"urban_test_data.csv\",x_test_2d,delimiter=\",\")\n",
        "np.savetxt(\"urban_train_labels.csv\",y_train,delimiter=\",\")\n",
        "np.savetxt(\"urban_test_labels.csv\",y_test,delimiter=\",\")"
      ],
      "execution_count": 0,
      "outputs": []
    },
    {
      "metadata": {
        "id": "RlTVKSfxZ0Zh",
        "colab_type": "code",
        "colab": {}
      },
      "cell_type": "code",
      "source": [
        "#downloading the saved data from colab's server\n",
        "from google.colab import files\n",
        "\n",
        "files.download(\"urban_train_data.csv\")\n",
        "files.download(\"urban_test_data.csv\")\n",
        "files.download(\"urban_train_labels.csv\")\n",
        "files.download(\"urban_test_labels.csv\")"
      ],
      "execution_count": 0,
      "outputs": []
    },
    {
      "metadata": {
        "id": "jDwZdp-Nd-or",
        "colab_type": "code",
        "outputId": "88b5a084-4466-4ab8-d64e-601dead7a861",
        "colab": {
          "base_uri": "https://localhost:8080/",
          "height": 74
        }
      },
      "cell_type": "code",
      "source": [
        "y_test.shape"
      ],
      "execution_count": 0,
      "outputs": [
        {
          "output_type": "execute_result",
          "data": {
            "text/plain": [
              "(837,)"
            ]
          },
          "metadata": {
            "tags": []
          },
          "execution_count": 32
        }
      ]
    }
  ]
}